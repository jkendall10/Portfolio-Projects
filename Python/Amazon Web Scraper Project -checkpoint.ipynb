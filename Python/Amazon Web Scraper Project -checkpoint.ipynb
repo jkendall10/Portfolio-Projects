{
 "cells": [
  {
   "cell_type": "markdown",
   "id": "2b0fad9b-8137-4bc4-918a-e27bf50e3454",
   "metadata": {},
   "source": [
    "Amazon Web Scraper Project"
   ]
  },
  {
   "cell_type": "code",
   "execution_count": 7,
   "id": "ee2ce798-b021-4249-90d0-b27f0d06bd97",
   "metadata": {},
   "outputs": [],
   "source": [
    "# import libraries\n",
    "\n",
    "from bs4 import BeautifulSoup\n",
    "import requests\n",
    "import time\n",
    "import datetime\n",
    "#code for library to send emails to yourself\n",
    "import smtplib"
   ]
  },
  {
   "cell_type": "code",
   "execution_count": 46,
   "id": "60b1c3fc-b189-44ad-9630-fc1aff091d8a",
   "metadata": {},
   "outputs": [
    {
     "name": "stdout",
     "output_type": "stream",
     "text": [
      "\n",
      "                    I'd Rather Do Data Analysis T-Shirt\n",
      "                   \n",
      "\n",
      "\n",
      "\n",
      "\n",
      "                    £16.99\n",
      "                   \n",
      "\n",
      "\n",
      "\n",
      "\n",
      "\n",
      "                      £\n",
      "                     \n",
      "\n",
      "                      16\n",
      "                      \n",
      "                       .\n",
      "                      \n",
      "\n",
      "\n",
      "                      99\n",
      "                     \n",
      "\n",
      "\n",
      "\n",
      "\n",
      "\n",
      "\n",
      "\n",
      "\n",
      "\n",
      "\n"
     ]
    }
   ],
   "source": [
    "#connect to website\n",
    "\n",
    "URL = 'https://www.amazon.co.uk/Id-Rather-Data-Analysis-T-Shirt/dp/B0DFTQVRMT/ref=sr_1_11?crid=3JKLPFR5BCYYN&dib=eyJ2IjoiMSJ9.ShHWp7xQyjY4rBirWM_ixsjcWQQgA0OurtcK7Ss2HaVqoiLJtB0g79b1-jtW6vGyxyA8_vQB63-Q37jGmHDLdBktKl9rcZZNsyP7v_GcA7WvVSL1H4LeiCSqq-0SYywdUSdqJDP8-M6bgkYE1n23G4MHw2hMaqZ4iwUerfzkGSrE0wrFL1mr2m4yYJIxx_SAakig6wnD_8BVWpQseYMYQg5NsZDaL-m2RyhnLVFq6Op5Vo2Ilrq6djg4kZ5S1wdwlOEdjG9jXFuzW7LU-PT4RWRVK6qUyw2n7__nz1tXWIE.4_U-cLYiroiTi61bHn9yGEE1JtPfSpiwQ9ThgtGeQCY&dib_tag=se&keywords=data+analysis+tshirt&qid=1748775528&sprefix=data+analysis+tshirt%2Caps%2C97&sr=8-11'\n",
    "\n",
    "headers = {\"User-Agent\": \"Mozilla/5.0 (Windows NT 10.0; Win64; x64) AppleWebKit/537.36 (KHTML, like Gecko) Chrome/137.0.0.0 Safari/537.36\", \"Accept-Encoding\":\"gzip, deflate\", \"Accept\":\"text/html,application/xhtml+xml,application/xml;q=0.9,*/*;q=0.8\", \"DNT\":\"1\",\"Connection\":\"close\", \"Upgrade-Insecure-Requests\":\"1\"}\n",
    "\n",
    "page = requests.get(URL, headers=headers)\n",
    "\n",
    "Soup1 = BeautifulSoup(page.content, \"html.parser\")\n",
    "\n",
    "Soup2 = BeautifulSoup(Soup1.prettify(), 'html.parser')\n",
    "\n",
    "title = Soup2.find(id=\"productTitle\").get_text()\n",
    "\n",
    "price = Soup2.find(id=\"corePriceDisplay_desktop_feature_div\").get_text()\n",
    "\n",
    "print(title)\n",
    "print(price)\n",
    "\n"
   ]
  },
  {
   "cell_type": "code",
   "execution_count": 47,
   "id": "df2c5195-8c68-48d7-bfb4-7bbe9e49a99c",
   "metadata": {},
   "outputs": [
    {
     "name": "stdout",
     "output_type": "stream",
     "text": [
      "I'd Rather Do Data Analysis T-Shirt\n",
      "16.99\n",
      "\n"
     ]
    }
   ],
   "source": [
    "price = price.strip()[1:7]\n",
    "title = title.strip()\n",
    "\n",
    "print(title)\n",
    "print(price)\n"
   ]
  },
  {
   "cell_type": "code",
   "execution_count": 48,
   "id": "5bc65c67-3fc0-4d7d-8aaf-b58baba98960",
   "metadata": {},
   "outputs": [
    {
     "data": {
      "text/plain": [
       "str"
      ]
     },
     "execution_count": 48,
     "metadata": {},
     "output_type": "execute_result"
    }
   ],
   "source": [
    "type(price)"
   ]
  },
  {
   "cell_type": "code",
   "execution_count": 51,
   "id": "f3483a38-b929-4a31-ac89-1e7b415536ab",
   "metadata": {},
   "outputs": [],
   "source": [
    "import csv\n",
    "\n",
    "header = ['Title', 'Price']\n",
    "data = [title, price]\n",
    "\n",
    "with open('Amazon web scrapper dataset.csv', 'w', newline='', encoding='UTF8') as f:\n",
    "    writer = csv.writer(f)\n",
    "    writer.writerow(header)\n",
    "    writer.writerow(data)"
   ]
  },
  {
   "cell_type": "code",
   "execution_count": 61,
   "id": "7e2b4cbd-32a0-4aa8-8728-33b6079d2c36",
   "metadata": {},
   "outputs": [
    {
     "name": "stdout",
     "output_type": "stream",
     "text": [
      "2025-06-01\n"
     ]
    }
   ],
   "source": [
    "import datetime\n",
    "\n",
    "today = datetime.date.today()\n",
    "\n",
    "print(today)"
   ]
  },
  {
   "cell_type": "code",
   "execution_count": 62,
   "id": "33608ce8-2640-4d1b-a04f-370eca8d1017",
   "metadata": {},
   "outputs": [],
   "source": [
    "import csv\n",
    "\n",
    "header = ['Title', 'Price', 'Date']\n",
    "data = [title, price, today]\n",
    "\n",
    "with open('Amazon web scrapper dataset.csv', 'w', newline='', encoding='UTF8') as f:\n",
    "    writer = csv.writer(f)\n",
    "    writer.writerow(header)\n",
    "    writer.writerow(data)"
   ]
  },
  {
   "cell_type": "code",
   "execution_count": 63,
   "id": "dee5a89b-4578-47cb-8290-63014a7114d6",
   "metadata": {},
   "outputs": [
    {
     "name": "stdout",
     "output_type": "stream",
     "text": [
      "                                 Title  Price        Date\n",
      "0  I'd Rather Do Data Analysis T-Shirt  16.99  2025-06-01\n"
     ]
    }
   ],
   "source": [
    "import pandas as pd\n",
    "df = pd.read_csv(r\"C:\\Users\\james_6mutpus\\Amazon web scrapper dataset.csv\")\n",
    "\n",
    "print(df)"
   ]
  },
  {
   "cell_type": "code",
   "execution_count": null,
   "id": "dd3186fe-c3b9-41f8-a292-49b4d858266b",
   "metadata": {},
   "outputs": [],
   "source": [
    "#now we are appending data to the csv\n",
    "\n",
    "with open('Amazon web scrapper dataset.csv', 'a+', newline='', encoding='UTF8') as f:\n",
    "    writer = csv.writer(f)\n",
    "    writer.writerow(data)\n"
   ]
  },
  {
   "cell_type": "code",
   "execution_count": 64,
   "id": "bca2a688-168c-4919-8323-90aec69f6338",
   "metadata": {},
   "outputs": [],
   "source": [
    "\n",
    "def check_price():\n",
    "\n",
    "    URL = 'https://www.amazon.co.uk/Id-Rather-Data-Analysis-T-Shirt/dp/B0DFTQVRMT/ref=sr_1_11?crid=3JKLPFR5BCYYN&dib=eyJ2IjoiMSJ9.ShHWp7xQyjY4rBirWM_ixsjcWQQgA0OurtcK7Ss2HaVqoiLJtB0g79b1-jtW6vGyxyA8_vQB63-Q37jGmHDLdBktKl9rcZZNsyP7v_GcA7WvVSL1H4LeiCSqq-0SYywdUSdqJDP8-M6bgkYE1n23G4MHw2hMaqZ4iwUerfzkGSrE0wrFL1mr2m4yYJIxx_SAakig6wnD_8BVWpQseYMYQg5NsZDaL-m2RyhnLVFq6Op5Vo2Ilrq6djg4kZ5S1wdwlOEdjG9jXFuzW7LU-PT4RWRVK6qUyw2n7__nz1tXWIE.4_U-cLYiroiTi61bHn9yGEE1JtPfSpiwQ9ThgtGeQCY&dib_tag=se&keywords=data+analysis+tshirt&qid=1748775528&sprefix=data+analysis+tshirt%2Caps%2C97&sr=8-11'\n",
    "\n",
    "    headers = {\"User-Agent\": \"Mozilla/5.0 (Windows NT 10.0; Win64; x64) AppleWebKit/537.36 (KHTML, like Gecko) Chrome/137.0.0.0 Safari/537.36\", \"Accept-Encoding\":\"gzip, deflate\", \"Accept\":\"text/html,application/xhtml+xml,application/xml;q=0.9,*/*;q=0.8\", \"DNT\":\"1\",\"Connection\":\"close\", \"Upgrade-Insecure-Requests\":\"1\"}\n",
    "\n",
    "    page = requests.get(URL, headers=headers)\n",
    "\n",
    "    Soup1 = BeautifulSoup(page.content, \"html.parser\")\n",
    "\n",
    "    Soup2 = BeautifulSoup(Soup1.prettify(), 'html.parser')\n",
    "\n",
    "    title = Soup2.find(id=\"productTitle\").get_text()\n",
    "\n",
    "    price = Soup2.find(id=\"corePriceDisplay_desktop_feature_div\").get_text()\n",
    "\n",
    "    price = price.strip()[1:7]\n",
    "    title = title.strip()\n",
    "\n",
    "    import datetime\n",
    "\n",
    "    today = datetime.date.today()\n",
    "\n",
    "    import csv\n",
    "\n",
    "    header = ['Title', 'Price', 'Date']\n",
    "    data = [title, price, today]\n",
    "\n",
    "    with open('Amazon web scrapper dataset.csv', 'a+', newline='', encoding='UTF8') as f:\n",
    "        writer = csv.writer(f)\n",
    "        writer.writerow(data)\n",
    "\n",
    "    #if(price < 14.00):\n",
    "        #send_mail()"
   ]
  },
  {
   "cell_type": "code",
   "execution_count": null,
   "id": "4fead185-f5ca-49ac-a4f6-509da0d266dd",
   "metadata": {},
   "outputs": [],
   "source": [
    "while(True):\n",
    "    check_price()\n",
    "    time.sleep(86400)"
   ]
  },
  {
   "cell_type": "code",
   "execution_count": 66,
   "id": "ec2ba825-0f93-42d0-8b95-739e58368529",
   "metadata": {},
   "outputs": [
    {
     "name": "stdout",
     "output_type": "stream",
     "text": [
      "                                 Title  Price        Date\n",
      "0  I'd Rather Do Data Analysis T-Shirt  16.99  2025-06-01\n",
      "1  I'd Rather Do Data Analysis T-Shirt  16.99  2025-06-01\n",
      "2  I'd Rather Do Data Analysis T-Shirt  16.99  2025-06-01\n",
      "3  I'd Rather Do Data Analysis T-Shirt  16.99  2025-06-01\n"
     ]
    }
   ],
   "source": [
    "#trialled with every 5 seconds\n",
    "import pandas as pd\n",
    "df = pd.read_csv(r\"C:\\Users\\james_6mutpus\\Amazon web scrapper dataset.csv\")\n",
    "\n",
    "print(df)"
   ]
  },
  {
   "cell_type": "markdown",
   "id": "009cac6b-b103-46e9-b122-1a99cd37fa3f",
   "metadata": {},
   "source": [
    "# send mail script\n",
    "\n",
    "def send_mail():\n",
    "    server = smtplib.SMTP_SSL('smtp.gmail.com',465)\n",
    "    server.ehlo()\n",
    "    #server.starttls()\n",
    "    server.ehlo()\n",
    "    server.login('xxxxxxxxxxxxxxxxxxxxxx@gmail.com','xxxxxxxxxxxxxx')\n",
    "    \n",
    "    subject = \"The Shirt you want is below £14.00! Now is your chance to buy!\"\n",
    "    body = \"James, This is the moment we have been waiting for. Now is your chance to pick up the shirt of your dreams. Don't mess it up! Link here: https://www.amazon.com/Funny-Data-Systems-Business-Analyst/dp/B07FNW9FGJ/ref=sr_1_3?dchild=1&keywords=data+analyst+tshirt&qid=1626655184&sr=8-3\"\n",
    "   \n",
    "    msg = f\"Subject: {subject}\\n\\n{body}\"\n",
    "    \n",
    "    server.sendmail(\n",
    "        'Axxxxxxxxxxxxxxxxxxgmail.com',\n",
    "        msg\n",
    "     \n",
    "    )"
   ]
  },
  {
   "cell_type": "code",
   "execution_count": null,
   "id": "9e7d9337-4c1f-44ea-bc74-7f7fe0c52e0c",
   "metadata": {},
   "outputs": [],
   "source": []
  },
  {
   "cell_type": "code",
   "execution_count": null,
   "id": "49692fef-64a5-4817-aeaa-962946c4c714",
   "metadata": {},
   "outputs": [],
   "source": []
  },
  {
   "cell_type": "code",
   "execution_count": null,
   "id": "24688c48-0868-4c04-8775-21a53ba10425",
   "metadata": {},
   "outputs": [],
   "source": []
  }
 ],
 "metadata": {
  "kernelspec": {
   "display_name": "Python 3 (ipykernel)",
   "language": "python",
   "name": "python3"
  },
  "language_info": {
   "codemirror_mode": {
    "name": "ipython",
    "version": 3
   },
   "file_extension": ".py",
   "mimetype": "text/x-python",
   "name": "python",
   "nbconvert_exporter": "python",
   "pygments_lexer": "ipython3",
   "version": "3.12.7"
  }
 },
 "nbformat": 4,
 "nbformat_minor": 5
}
